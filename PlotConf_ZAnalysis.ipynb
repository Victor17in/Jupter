{
  "nbformat": 4,
  "nbformat_minor": 0,
  "metadata": {
    "colab": {
      "name": "PlotConf_ZAnalysis.ipynb",
      "provenance": [],
      "authorship_tag": "ABX9TyMrOtzFoUSVC8UPx6P5ohwe",
      "include_colab_link": true
    },
    "kernelspec": {
      "name": "python3",
      "display_name": "Python 3"
    },
    "language_info": {
      "name": "python"
    }
  },
  "cells": [
    {
      "cell_type": "markdown",
      "metadata": {
        "id": "view-in-github",
        "colab_type": "text"
      },
      "source": [
        "<a href=\"https://colab.research.google.com/github/Victor17in/Jupter/blob/main/PlotConf_ZAnalysis.ipynb\" target=\"_parent\"><img src=\"https://colab.research.google.com/assets/colab-badge.svg\" alt=\"Open In Colab\"/></a>"
      ]
    },
    {
      "cell_type": "code",
      "metadata": {
        "id": "4VysDIRUzz0U"
      },
      "source": [
        "config = {\n",
        "\"Luminosity\": 1000,\n",
        "\"InputDirectory\": \"results\",\n",
        "\n",
        "\"Histograms\" : {\n",
        "    \"invMass\"              : {},\n",
        "    \"etmiss\"               : {},\n",
        "    \"vxp_z\"                : {},\n",
        "    \"pvxp_n\"               : {},\n",
        "    \"lep_n\"                : {},\n",
        "    \"leadlep_pt\"           : {},\n",
        "    \"leadlep_eta\"          : {\"y_margin\" : 0.2},\n",
        "    \"leadlep_E\"            : {},\n",
        "    \"leadlep_phi\"          : {\"y_margin\" : 0.6},\n",
        "    \"leadlep_charge\"       : {\"y_margin\" : 0.6},\n",
        "    \"leadlep_type\"         : {\"y_margin\" : 0.5},\n",
        "    \"leadlep_ptconerel30\"  : {},\n",
        "    \"leadlep_etconerel20\"  : {},\n",
        "    \"leadlep_z0\"           : {},\n",
        "    \"leadlep_d0\"           : {},\n",
        "    \"traillep_pt\"          : {},\n",
        "    \"traillep_eta\"         : {\"y_margin\" : 0.2},\n",
        "    \"traillep_E\"           : {},\n",
        "    \"traillep_phi\"         : {\"y_margin\" : 0.6},\n",
        "    \"traillep_charge\"      : {\"y_margin\" : 0.6},\n",
        "    \"traillep_type\"        : {\"y_margin\" : 0.5},\n",
        "    \"traillep_ptconerel30\" : {},\n",
        "    \"traillep_etconerel20\" : {},\n",
        "    \"traillep_z0\"          : {},\n",
        "    \"traillep_d0\"          : {},\n",
        "    \"n_jets\"               : {},\n",
        "    \"jet_pt\"               : {},\n",
        "    \"jet_m\"                : {},\n",
        "    \"jet_jvf\"              : {\"y_margin\" : 0.5},\n",
        "    \"jet_eta\"              : {\"y_margin\" : 0.3},\n",
        "    \"jet_MV1\"              : {},\n",
        "},\n",
        "\n",
        "\"Paintables\": {\n",
        "    \"Stack\": {\n",
        "        \"Order\": [\"Diboson\", \"DrellYan\", \"W\", \"Z\", \"stop\", \"ttbar\"],\n",
        "        \"Processes\" : {                \n",
        "            \"Diboson\" : {\n",
        "                \"Color\"         : \"#fa7921\",\n",
        "                \"Contributions\" : [\"WW\", \"WZ\", \"ZZ\"]},\n",
        "\n",
        "            \"DrellYan\": {\n",
        "                \"Color\"         : \"#5bc0eb\",\n",
        "                \"Contributions\" : [\"DYeeM08to15\", \"DYeeM15to40\", \"DYmumuM08to15\", \"DYmumuM15to40\", \"DYtautauM08to15\", \"DYtautauM15to40\"]},\n",
        "\n",
        "            \"stop\": {\n",
        "                \"Color\"         : \"#fde74c\",\n",
        "                \"Contributions\" : [\"stop_tchan_top\", \"stop_tchan_antitop\", \"stop_schan\", \"stop_wtchan\"]},\n",
        "\n",
        "            \"ttbar\": {\n",
        "                \"Color\"         : \"#9bc53d\",\n",
        "                \"Contributions\" : [\"ttbar_lep\", \"ttbar_had\"]},\n",
        "\n",
        "            \"W\": {\n",
        "                \"Color\"         : \"#e55934\",\n",
        "                \"Contributions\" : [\"WenuJetsBVeto\", \"WenuWithB\", \"WenuNoJetsBVeto\", \"WmunuJetsBVeto\", \"WmunuWithB\", \"WmunuNoJetsBVeto\", \"WtaunuJetsBVeto\", \"WtaunuWithB\", \"WtaunuNoJetsBVeto\"]},\n",
        "                                \n",
        "            \"Z\": {              \n",
        "                \"Color\"         : \"#086788\",\n",
        "                \"Contributions\" : [\"Zee\", \"Zmumu\", \"Ztautau\"]},\n",
        "        }\n",
        "    },\n",
        "\n",
        "    \"data\" : {\n",
        "        \"Contributions\": [\"data_Egamma\", \"data_Muons\"]}\n",
        "},\n",
        "\n",
        "\"Depictions\": {\n",
        "    \"Order\": [\"Main\", \"Data/MC\"],\n",
        "    \"Definitions\" : {        \n",
        "        \"Main\": {\n",
        "            \"type\"      : \"Main\",\n",
        "            \"Paintables\": [\"Stack\", \"data\"]},\n",
        "\n",
        "        \"Data/MC\": {\n",
        "            \"type\"       : \"Agreement\",\n",
        "            \"Paintables\" : [\"data\", \"Stack\"]},\n",
        "    }\n",
        "},\n",
        "}"
      ],
      "execution_count": null,
      "outputs": []
    }
  ]
}