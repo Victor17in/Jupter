{
  "nbformat": 4,
  "nbformat_minor": 0,
  "metadata": {
    "colab": {
      "name": "Disclaimer.ipynb",
      "provenance": []
    },
    "kernelspec": {
      "name": "python3",
      "display_name": "Python 3"
    },
    "language_info": {
      "name": "python"
    }
  },
  "cells": [
    {
      "cell_type": "code",
      "metadata": {
        "id": "qok-tfpQx2Ck"
      },
      "source": [
        "message = \"\"\"\n",
        "---------------------DISCLAIMER---------------------\n",
        "This Software is intended for educational use only!\n",
        "Under no circumstances does it qualify to reproduce\n",
        "actual ATLAS analysis results or produce publishable\n",
        "results!\n",
        "----------------------------------------------------\n",
        "\"\"\"\n",
        "\n",
        "\n",
        "def printDisclaimer():\n",
        "  print message"
      ],
      "execution_count": null,
      "outputs": []
    }
  ]
}