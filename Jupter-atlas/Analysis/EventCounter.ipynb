{
  "nbformat": 4,
  "nbformat_minor": 0,
  "metadata": {
    "colab": {
      "name": "EventCounter.ipynb",
      "provenance": []
    },
    "kernelspec": {
      "name": "python3",
      "display_name": "Python 3"
    },
    "language_info": {
      "name": "python"
    }
  },
  "cells": [
    {
      "cell_type": "code",
      "metadata": {
        "id": "qok-tfpQx2Ck"
      },
      "source": [
        "import ROOT\n",
        "import collections\n",
        "import time\n",
        "\n",
        "#======================================================================\n",
        "\n",
        "class EventCounter(object):\n",
        "    \"\"\"Event counting faclility for the analysis class.\"\"\"\n",
        "    def __init__(self, name):\n",
        "        super(EventCounter, self).__init__()\n",
        "        self.Name = name\n",
        "        self.RawCounter      = collections.Counter()\n",
        "        self.WeightedCounter = collections.Counter()\n",
        "    \n",
        "    def printResults(self):\n",
        "        self.log(\"+----------------------------------------------------------------+\")\n",
        "        for item, value in self.RawCounter.most_common():\n",
        "            self.log(\"|%20s : %20i : %17.2f |\" %(item, value, self.WeightedCounter[item]))\n",
        "        self.log(\"+----------------------------------------------------------------+\")\n",
        "    \n",
        "    def log(self, message):\n",
        "        print time.ctime() + \" EventStatistics \" + self.Name + \": \" + message\n",
        "        \n",
        "    # Utility function      \n",
        "    def update(self, cut, weight):\n",
        "        self.RawCounter.update([cut])\n",
        "        self.WeightedCounter[cut] += weight\n",
        "        \n",
        "        "
      ],
      "execution_count": null,
      "outputs": []
    }
  ]
}