{
  "nbformat": 4,
  "nbformat_minor": 0,
  "metadata": {
    "colab": {
      "name": "Analysis.ipynb",
      "provenance": []
    },
    "kernelspec": {
      "name": "python3",
      "display_name": "Python 3"
    },
    "language_info": {
      "name": "python"
    }
  },
  "cells": [
    {
      "cell_type": "code",
      "metadata": {
        "id": "qok-tfpQx2Ck"
      },
      "source": [
        "import ROOT\n",
        "import time\n",
        "\n",
        "import TupleReader as reader\n",
        "import HistManager\n",
        "import EventCounter\n",
        "\n",
        "#======================================================================\n",
        "\n",
        "class Analysis(object):\n",
        "    \"\"\"Baseclass for all analyses. Common functionality should go here.\n",
        "    This class handles some of the technicalities that are common to all analyses.    \n",
        "    \"\"\"\n",
        "\n",
        "    def __init__(self, auxName):\n",
        "        super(Analysis, self).__init__()\n",
        "        # Configurables\n",
        "        self.Name         = type(self).__name__\n",
        "        self.TotName      = auxName + \".\" + self.Name\n",
        "        self.isData       = False\n",
        "\n",
        "        # Functionality providers\n",
        "        self.Store        = reader.TupleReader()\n",
        "        self.EventCounter = EventCounter.EventCounter(self.TotName)\n",
        "        self.HistManager  = HistManager.HistManager(self.TotName)\n",
        "\n",
        "    #Getters and Setters\n",
        "    def setIsData(self, isData):\n",
        "        self.isData = isData\n",
        "\n",
        "    def getIsData(self):\n",
        "        return self.isData\n",
        "\n",
        "    #Execution functions\n",
        "    def doInitialization(self):\n",
        "        self.initialize()\n",
        "      \n",
        "    def initialize(self):\n",
        "        pass\n",
        "        \n",
        "    def doAnalysis(self):\n",
        "        eventinfo = self.Store.getEventInfo()\n",
        "        weight = eventinfo.scalefactor()*eventinfo.eventWeight() if not self.getIsData() else 1\n",
        "        self.countEvent(\"all\", weight)\n",
        "        if self.analyze():\n",
        "            self.countEvent(\"final\", weight)\n",
        "        \n",
        "    def analyze(self):\n",
        "        return True\n",
        "    \n",
        "    def doFinalization(self):\n",
        "        self.HistManager.writeHistograms()\n",
        "        self.EventCounter.printResults()\n",
        "        self.finalize()\n",
        "\n",
        "    def finalize(self):\n",
        "        pass\n",
        "\n",
        "    #Forwarding functions\n",
        "    def addHistogram(self, histName, histogram):\n",
        "        return self.HistManager.addHistogram(histName, histogram)\n",
        "        \n",
        "    def addStandardHistogram(self, histName):\n",
        "        return self.HistManager.addStandardHistogram(histName)\n",
        "\n",
        "    def getHistogram(self, histName):\n",
        "        return self.HistManager.getHistogram(histName)\n",
        "  \n",
        "    def countEvent(self, cut, weight):\n",
        "        self.EventCounter.update(cut, weight)\n"
      ],
      "execution_count": null,
      "outputs": []
    }
  ]
}