{
  "nbformat": 4,
  "nbformat_minor": 0,
  "metadata": {
    "colab": {
      "name": "AnalysisHelpers.ipynb",
      "provenance": []
    },
    "kernelspec": {
      "name": "python3",
      "display_name": "Python 3"
    },
    "language_info": {
      "name": "python"
    }
  },
  "cells": [
    {
      "cell_type": "code",
      "metadata": {
        "id": "qok-tfpQx2Ck"
      },
      "source": [
        "import math\n",
        "\n",
        "\"\"\"These helper functions implement three commonly used functionalities:\n",
        "The Object Selection Helpers represent standard object selections that serve as a starting point for\n",
        "self defined object selection strategies.\n",
        "The selectAndSortContainer function can be used to do selecting and sorting in a one liner.\n",
        "The StandardEventCuts function implements three standard cuts used in essentially all analyses.\n",
        "\"\"\"\n",
        "\n",
        "\n",
        "# Object Selection Helpers\n",
        "def isGoodLepton(Lepton):\n",
        "    if (abs(Lepton.pdgId()) == 11 and isGoodElectron(Lepton)): return True;\n",
        "    if (abs(Lepton.pdgId()) == 13 and isGoodMuon(Lepton)): return True;\n",
        "    return False;\n",
        "    \n",
        "def isGoodElectron(Lepton):\n",
        "    if not Lepton.isTight(): return False\n",
        "    if not Lepton.pt() > 25: return False\n",
        "    if not Lepton.isoetconerel20() < 0.15: return False\n",
        "    if not Lepton.isoptconerel30() < 0.15: return False\n",
        "    return True;\n",
        "    \n",
        "def isGoodMuon(Lepton):\n",
        "    if not Lepton.isTight(): return False\n",
        "    if not Lepton.pt() > 25: return False\n",
        "    if not Lepton.isoetconerel20() < 0.15: return False\n",
        "    if not Lepton.isoptconerel30() < 0.15: return False\n",
        "    return True;\n",
        "    \n",
        "def isGoodJet(jet):\n",
        "    if jet.pt() < 25: return False\n",
        "    if abs(jet.eta() > 2.5): return False\n",
        "    if jet.pt() < 50 and abs(jet.eta() < 2.4) and jet.jvf() < 0.5: return False\n",
        "    return True\n",
        "\n",
        "# Utility function\n",
        "def selectAndSortContainer(container, selectingFunction, sortingFunction):\n",
        "    selectedContainer = [particle for particle in container if selectingFunction(particle)]\n",
        "    return sorted(selectedContainer, key=sortingFunction, reverse=True)\n",
        "\n",
        "# Event Selection Helpers\n",
        "def StandardEventCuts(eventinfo):\n",
        "    if not (eventinfo.triggeredByElectron() or eventinfo.triggeredByMuon()): return False\n",
        "    if not eventinfo.passGRL(): return False\n",
        "    if not eventinfo.hasGoodVertex(): return False\n",
        "    return True;\n",
        "    \n",
        "    \n",
        "# Variable Definitions:\n",
        "def WTransverseMass(lepton, etmiss):\n",
        "    return math.sqrt(2*lepton.pt()*etmiss.et()*(1-math.cos(lepton.tlv().DeltaPhi(etmiss.tlv()))));"
      ],
      "execution_count": null,
      "outputs": []
    }
  ]
}