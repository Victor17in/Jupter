{
  "nbformat": 4,
  "nbformat_minor": 0,
  "metadata": {
    "colab": {
      "name": "HistManager.ipynb",
      "provenance": []
    },
    "kernelspec": {
      "name": "python3",
      "display_name": "Python 3"
    },
    "language_info": {
      "name": "python"
    }
  },
  "cells": [
    {
      "cell_type": "code",
      "metadata": {
        "id": "KSaLZfiuPmYG"
      },
      "source": [
        "import ROOT\n",
        "import time\n",
        "import StandardHistograms as SH\n",
        "\n",
        "#======================================================================\n",
        "\n",
        "class HistManager(object):    \n",
        "    \"\"\"Histogram managing tool for the analysis class.\"\"\"\n",
        "    def __init__(self, name):\n",
        "        super(HistManager, self).__init__()\n",
        "        # Configurable\n",
        "        self.Name = name\n",
        "\n",
        "        self.Histograms = {}\n",
        "\n",
        "\n",
        "    def getHistogram(self, histName):\n",
        "        return self.HistManager.getHistogram(histName)\n",
        "        if histName in self.Histograms:\n",
        "            return self.Histograms[histName]\n",
        "        else:\n",
        "            self.log(\"Histogram with name \" + histName + \" not found\")\n",
        "            return None\n",
        "\n",
        "    def addHistogram(self, histName, histogram):\n",
        "        if histName in self.Histograms:\n",
        "            print \"Histogram with name \" + histName + \" already defined!\"\n",
        "        else:\n",
        "            self.Histograms[histName] = histogram\n",
        "        return histogram\n",
        "        \n",
        "    def addStandardHistogram(self, histName):\n",
        "        histogram = SH.getStandardHistogram(histName)\n",
        "        if histogram is None: \n",
        "            self.log(\"Histogram with name \" + histName + \" not found\")\n",
        "            return None\n",
        "        return self.addHistogram(histName, histogram)\n",
        "\n",
        "    def writeHistograms(self):\n",
        "        [hist.Write() for hist in self.Histograms.values()]\n",
        "\n",
        "    # Utility function\n",
        "    def log(self, message):\n",
        "        print time.ctime() + \" HistManager \" + self.Name + \": \" + message\n",
        "        "
      ],
      "execution_count": null,
      "outputs": []
    }
  ]
}