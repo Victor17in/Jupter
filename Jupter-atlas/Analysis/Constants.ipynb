{
  "nbformat": 4,
  "nbformat_minor": 0,
  "metadata": {
    "colab": {
      "name": "Constants.ipynb",
      "provenance": []
    },
    "kernelspec": {
      "name": "python3",
      "display_name": "Python 3"
    },
    "language_info": {
      "name": "python"
    }
  },
  "cells": [
    {
      "cell_type": "code",
      "metadata": {
        "id": "qok-tfpQx2Ck"
      },
      "source": [
        "\"\"\"Module defining some often needed constants\n",
        "\"\"\"\n",
        "\n",
        "Z_Mass = 91.188;"
      ],
      "execution_count": null,
      "outputs": []
    }
  ]
}