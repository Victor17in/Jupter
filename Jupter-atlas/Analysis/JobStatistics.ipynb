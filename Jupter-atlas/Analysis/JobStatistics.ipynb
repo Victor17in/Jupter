{
  "nbformat": 4,
  "nbformat_minor": 0,
  "metadata": {
    "colab": {
      "name": "JobStatistics.ipynb",
      "provenance": []
    },
    "kernelspec": {
      "name": "python3",
      "display_name": "Python 3"
    },
    "language_info": {
      "name": "python"
    }
  },
  "cells": [
    {
      "cell_type": "code",
      "metadata": {
        "id": "MBixbnOhHP_I"
      },
      "source": [
        "import time\n",
        "import sys\n",
        "\n",
        "#======================================================================\n",
        "\n",
        "class JobStatistics(object):\n",
        "    \"\"\"JobStatistics provides the functionality for monitoring the progess of the current analysis\"\"\"\n",
        "    def __init__(self, maxEvents, isBatch):\n",
        "        super(JobStatistics, self).__init__()\n",
        "        self.startTime  = time.time()\n",
        "        self.MaxEvents  = maxEvents\n",
        "        self.IsBatch    = isBatch\n",
        "\n",
        "    def setMaxEvents(self, maxEvents):\n",
        "        self.MaxEvents = maxEvents\n",
        "\n",
        "    def resetTimer(self):\n",
        "        self.startTime = time.time()\n",
        "\n",
        "    def elapsedTime(self):\n",
        "        return abs(time.time() - self.startTime)\n",
        "        \n",
        "    def updateStatus(self, n, force = False):\n",
        "        if self.IsBatch: return\n",
        "        if n % 10000 != 0 and not force: return\n",
        "        fractionDone = float(n)/float(self.MaxEvents)\n",
        "        if fractionDone == 0: return\n",
        "        eft = self.elapsedTime()*(self.MaxEvents/float(n)-1)\n",
        "        sys.stdout.write('\\r')\n",
        "        sys.stdout.write(\"%-120s\\r\" % \"\")\n",
        "        sys.stdout.write(\"[%-20s] %d%% EFT: %4.0fs\" % ('='*int(fractionDone*20), fractionDone*100, abs(eft)))\n",
        "        sys.stdout.flush()"
      ],
      "execution_count": null,
      "outputs": []
    }
  ]
}