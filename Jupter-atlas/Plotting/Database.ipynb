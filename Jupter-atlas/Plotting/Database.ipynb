{
  "nbformat": 4,
  "nbformat_minor": 0,
  "metadata": {
    "colab": {
      "name": "Database.ipynb",
      "provenance": []
    },
    "kernelspec": {
      "name": "python3",
      "display_name": "Python 3"
    },
    "language_info": {
      "name": "python"
    }
  },
  "cells": [
    {
      "cell_type": "code",
      "metadata": {
        "id": "q5Fpb3zQKMBq"
      },
      "source": [
        "\"\"\"The functionality found here implements a metadata database used to manipulate the histograms\n",
        "It also implements the possibulity to do rebinning. which can be enabled in the configuration yaml\n",
        "for plotting via:\n",
        "    histogram          : {rebin = 2}\n",
        "with the number specifying the number of bins that will be merged into one.\n",
        "\"\"\"\n",
        "\n",
        "import ROOT\n",
        "from collections import OrderedDict\n",
        "\n",
        "import infofile\n",
        "\n",
        "config      = dict()\n",
        "histoptions = OrderedDict()\n",
        "rootFiles   = dict()\n",
        "scaleDB     = infofile.infos\n",
        "\n",
        "def getScaleFactor(scalingkey):\n",
        "    \"\"\"Scaling is done by calculating the luminosity of the sample via xsec/(sumw*red_eff) and\n",
        "    multiplying the target luminosity\"\"\"\n",
        "    entry = scaleDB[scalingkey]\n",
        "    return config[\"Luminosity\"]*entry[\"xsec\"]/(entry[\"sumw\"]*entry[\"red_eff\"])\n",
        "    \n",
        "def UpdateDataBase(configuration, histogramName):\n",
        "    global histoptions\n",
        "    config[\"HistLocation\"]   = histogramName\n",
        "    config[\"InputDirectory\"] = configuration[\"InputDirectory\"]\n",
        "    config[\"Luminosity\"]     = configuration[\"Luminosity\"]\n",
        "    histoptions = configuration[\"Histograms\"][histogramName]\n",
        "\n",
        "def getHistogram(subcontribution, doScaling):\n",
        "    # Check whether root file has been opened yet and add it to dictionary of root files\n",
        "    if subcontribution not in rootFiles:\n",
        "      rootFiles[subcontribution] = ROOT.TFile.Open( \"%s/%s.root\" % (config[\"InputDirectory\"], subcontribution), \"READ\")\n",
        "      return getHistogram(subcontribution, doScaling)\n",
        "    \n",
        "    # Retrieve histogram\n",
        "    hist = rootFiles[subcontribution].Get(config[\"HistLocation\"]).Clone()\n",
        "    if doScaling:\n",
        "      hist.Scale(getScaleFactor(subcontribution))\n",
        "    if \"rebin\" in histoptions: hist.Rebin(histoptions[\"rebin\"])\n",
        "    return hist    \n",
        "    \n",
        "    "
      ],
      "execution_count": null,
      "outputs": []
    }
  ]
}