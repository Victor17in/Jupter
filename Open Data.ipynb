{
 "cells": [
  {
   "cell_type": "markdown",
   "id": "a314c073",
   "metadata": {},
   "source": [
    "# Open Data eventos"
   ]
  },
  {
   "cell_type": "markdown",
   "id": "a97e93f2",
   "metadata": {},
   "source": [
    "## Eventos sem corte"
   ]
  },
  {
   "cell_type": "markdown",
   "id": "d23144b4",
   "metadata": {},
   "source": [
    "### Listas com numero de eventos e pesos"
   ]
  },
  {
   "cell_type": "code",
   "execution_count": 114,
   "id": "8bfd70d3",
   "metadata": {},
   "outputs": [],
   "source": [
    "listaeventos = [1, 72,274,2,621,905,394,778,3,417,155,12325,296,368,1009,114,408,2812,109,8,6,974,13,696,122,787,48350,5,504,1,1136,572,218,7977,708,7]\n",
    "listaeventosreais = [1363,980]"
   ]
  },
  {
   "cell_type": "code",
   "execution_count": 115,
   "id": "f3e815cd",
   "metadata": {},
   "outputs": [],
   "source": [
    "listapesos = [0.18, 66.85,287.06,0.51,509.45,835.32,323.25,773.81,0.52,418.45,139576608.29,12288403953.02,280.22,361.84,944.53,115.07, 404.98,2761.17,99.73,0.00,1.18,902.82,11.25,668.12,115.64,771.89,46888.05,0.78,478.15,0.39,962.89,536.78,197.81,7671461353.28,657.68,0]\n",
    "listapesosreais = [1363.00,980.00]"
   ]
  },
  {
   "cell_type": "code",
   "execution_count": 116,
   "id": "97c3265d",
   "metadata": {},
   "outputs": [],
   "source": [
    "v1 = listaeventos[0]*listapesos[0]\n",
    "v2 = listaeventos[1]*listapesos[1]\n",
    "v3 = listaeventos[2]*listapesos[2]\n",
    "v4 = listaeventos[3]*listapesos[3]\n",
    "v5 = listaeventos[4]*listapesos[4]\n",
    "v6 = listaeventos[5]*listapesos[5]\n",
    "v7 = listaeventos[6]*listapesos[6]\n",
    "v8 = listaeventos[7]*listapesos[7]\n",
    "v9 = listaeventos[8]*listapesos[8]\n",
    "v10 = listaeventos[9]*listapesos[9]\n",
    "v11 = listaeventos[10]*listapesos[10]\n",
    "v12 = listaeventos[11]*listapesos[11]\n",
    "v13 = listaeventos[12]*listapesos[12]\n",
    "v14 = listaeventos[13]*listapesos[13]\n",
    "v15 = listaeventos[14]*listapesos[14]\n",
    "v16 = listaeventos[15]*listapesos[15]\n",
    "v17 = listaeventos[16]*listapesos[16]\n",
    "v18 = listaeventos[17]*listapesos[17]\n",
    "v19 = listaeventos[18]*listapesos[18]\n",
    "v20 = listaeventos[19]*listapesos[19]\n",
    "v21 = listaeventos[20]*listapesos[20]\n",
    "v22 = listaeventos[21]*listapesos[21]\n",
    "v23 = listaeventos[22]*listapesos[22]\n",
    "v24 = listaeventos[23]*listapesos[23]\n",
    "v25 = listaeventos[24]*listapesos[24]\n",
    "v26 = listaeventos[25]*listapesos[25]\n",
    "v27 = listaeventos[26]*listapesos[26]\n",
    "v28 = listaeventos[27]*listapesos[27]\n",
    "v29 = listaeventos[28]*listapesos[28]\n",
    "v30 = listaeventos[29]*listapesos[29]\n",
    "v31 = listaeventos[30]*listapesos[30]\n",
    "v32 = listaeventos[31]*listapesos[31]\n",
    "v33 = listaeventos[32]*listapesos[32]\n",
    "v34 = listaeventos[33]*listapesos[33]\n",
    "v35 = listaeventos[34]*listapesos[34]\n",
    "v36 = listaeventos[35]*listapesos[35]"
   ]
  },
  {
   "cell_type": "code",
   "execution_count": 117,
   "id": "240a2d6e",
   "metadata": {},
   "outputs": [],
   "source": [
    "somadeev = v1+v2+v3+v4 +v5+ v6+v7+ v8+v9+ v10+v11+v12 +v13+v14 +v15+v16 +v17+v18 +v19+v20 +v21+v22 +v23+v24 +v25+v26 +v27+v28 +v29+v30 +v31+v32 +v33+v34 +v35+v36"
   ]
  },
  {
   "cell_type": "code",
   "execution_count": 118,
   "id": "0b4c1158",
   "metadata": {},
   "outputs": [
    {
     "data": {
      "text/plain": [
       "212673742646763.9"
      ]
     },
     "execution_count": 118,
     "metadata": {},
     "output_type": "execute_result"
    }
   ],
   "source": [
    "somadeev"
   ]
  },
  {
   "cell_type": "code",
   "execution_count": 119,
   "id": "273ffed2",
   "metadata": {},
   "outputs": [
    {
     "data": {
      "text/plain": [
       "10581.045220329488"
      ]
     },
     "execution_count": 119,
     "metadata": {},
     "output_type": "execute_result"
    }
   ],
   "source": [
    "somadeev/sum(listapesos)"
   ]
  },
  {
   "cell_type": "code",
   "execution_count": 120,
   "id": "5ae45e74",
   "metadata": {},
   "outputs": [],
   "source": [
    "somadeevreais = 1363+980"
   ]
  },
  {
   "cell_type": "code",
   "execution_count": 121,
   "id": "a7a13c1d",
   "metadata": {},
   "outputs": [
    {
     "data": {
      "text/plain": [
       "2343"
      ]
     },
     "execution_count": 121,
     "metadata": {},
     "output_type": "execute_result"
    }
   ],
   "source": [
    "somadeevreais"
   ]
  },
  {
   "cell_type": "code",
   "execution_count": 122,
   "id": "e163e62b",
   "metadata": {},
   "outputs": [
    {
     "data": {
      "text/plain": [
       "36"
      ]
     },
     "execution_count": 122,
     "metadata": {},
     "output_type": "execute_result"
    }
   ],
   "source": [
    "len(listaeventos)"
   ]
  },
  {
   "cell_type": "code",
   "execution_count": 123,
   "id": "0ff5f0a7",
   "metadata": {},
   "outputs": [
    {
     "data": {
      "text/plain": [
       "36"
      ]
     },
     "execution_count": 123,
     "metadata": {},
     "output_type": "execute_result"
    }
   ],
   "source": [
    "len(listapesos)"
   ]
  },
  {
   "cell_type": "code",
   "execution_count": 124,
   "id": "ac6109c4",
   "metadata": {},
   "outputs": [
    {
     "data": {
      "text/plain": [
       "83147"
      ]
     },
     "execution_count": 124,
     "metadata": {},
     "output_type": "execute_result"
    }
   ],
   "source": [
    "sum(listaeventos)"
   ]
  },
  {
   "cell_type": "code",
   "execution_count": 125,
   "id": "2df4812f",
   "metadata": {},
   "outputs": [
    {
     "data": {
      "text/plain": [
       "20099502290.96"
      ]
     },
     "execution_count": 125,
     "metadata": {},
     "output_type": "execute_result"
    }
   ],
   "source": [
    "sum(listapesos)"
   ]
  },
  {
   "cell_type": "markdown",
   "id": "56248579",
   "metadata": {},
   "source": [
    "## Eventos com corte"
   ]
  },
  {
   "cell_type": "markdown",
   "id": "f635d938",
   "metadata": {},
   "source": [
    "### Listas com numero de eventos e pesos"
   ]
  },
  {
   "cell_type": "code",
   "execution_count": 157,
   "id": "9d1fdd56",
   "metadata": {},
   "outputs": [],
   "source": [
    "listaeventosc = [6,435,13,6,11,2,9258,121,6,33,1,5,191,26,2,79,61,60,3670,1,6,843,7,5977]\n",
    "listaeventosreaisc = [226,340]"
   ]
  },
  {
   "cell_type": "code",
   "execution_count": 158,
   "id": "91e92970",
   "metadata": {},
   "outputs": [],
   "source": [
    "listapesosc = [6.57,363.93,6.05,8.26,10.37,1471149.46,9173766122.96,103.22,5.92,27.27,2.37,4.83,192.24,23.39,2.98,73.20,59.03,62.02,3486.79,0.09,8.50,728.67,9.48,5733424258.75]\n",
    "listapesosreaisc = [226.00,340.00]"
   ]
  },
  {
   "cell_type": "code",
   "execution_count": 159,
   "id": "617dc234",
   "metadata": {},
   "outputs": [
    {
     "data": {
      "text/plain": [
       "24"
      ]
     },
     "execution_count": 159,
     "metadata": {},
     "output_type": "execute_result"
    }
   ],
   "source": [
    "len(listaeventosc)"
   ]
  },
  {
   "cell_type": "code",
   "execution_count": 160,
   "id": "178604b3",
   "metadata": {},
   "outputs": [
    {
     "data": {
      "text/plain": [
       "24"
      ]
     },
     "execution_count": 160,
     "metadata": {},
     "output_type": "execute_result"
    }
   ],
   "source": [
    "len(listapesosc)"
   ]
  },
  {
   "cell_type": "code",
   "execution_count": 161,
   "id": "c5e7b23b",
   "metadata": {},
   "outputs": [],
   "source": [
    "vi1 = listaeventosc[0]*listapesosc[0]\n",
    "vi2 = listaeventosc[1]*listapesosc[1]\n",
    "vi3 = listaeventosc[2]*listapesosc[2]\n",
    "vi4 = listaeventosc[3]*listapesosc[3]\n",
    "vi5 = listaeventosc[4]*listapesosc[4]\n",
    "vi6 = listaeventosc[5]*listapesosc[5]\n",
    "vi7 = listaeventosc[6]*listapesosc[6]\n",
    "vi8 = listaeventosc[7]*listapesosc[7]\n",
    "vi9 = listaeventosc[8]*listapesosc[8]\n",
    "vi10 = listaeventosc[9]*listapesosc[9]\n",
    "vi11 = listaeventosc[10]*listapesosc[10]\n",
    "vi12 = listaeventosc[11]*listapesosc[11]\n",
    "vi13 = listaeventosc[12]*listapesosc[12]\n",
    "vi14 = listaeventosc[13]*listapesosc[13]\n",
    "vi15 = listaeventosc[14]*listapesosc[14]\n",
    "vi16 = listaeventosc[15]*listapesosc[15]\n",
    "vi17 = listaeventosc[16]*listapesosc[16]\n",
    "vi18 = listaeventosc[17]*listapesosc[17]\n",
    "vi19 = listaeventosc[18]*listapesosc[18]\n",
    "vi20 = listaeventosc[19]*listapesosc[19]\n",
    "vi21 = listaeventosc[20]*listapesosc[20]\n",
    "vi22 = listaeventosc[21]*listapesosc[21]\n",
    "vi23 = listaeventosc[22]*listapesosc[22]\n",
    "vi24 = listaeventosc[23]*listapesosc[23]"
   ]
  },
  {
   "cell_type": "code",
   "execution_count": 167,
   "id": "1921d44a",
   "metadata": {},
   "outputs": [],
   "source": [
    "somadeevc =  vi1+vi2+vi3+vi4 +vi5+ vi6+vi7+ vi8+vi9+ vi10+vi11+vi12+vi13+vi14 +vi15+vi16 +vi17+vi18 +vi19+vi20 +vi21+vi22 +vi23+vi24"
   ]
  },
  {
   "cell_type": "code",
   "execution_count": 168,
   "id": "d92c4f6f",
   "metadata": {},
   "outputs": [
    {
     "data": {
      "text/plain": [
       "119199420136596.5"
      ]
     },
     "execution_count": 168,
     "metadata": {},
     "output_type": "execute_result"
    }
   ],
   "source": [
    "somadeevc "
   ]
  },
  {
   "cell_type": "code",
   "execution_count": 169,
   "id": "d5877917",
   "metadata": {},
   "outputs": [
    {
     "data": {
      "text/plain": [
       "5930.466257873854"
      ]
     },
     "execution_count": 169,
     "metadata": {},
     "output_type": "execute_result"
    }
   ],
   "source": [
    "somadeevc/sum(listapesos)"
   ]
  },
  {
   "cell_type": "code",
   "execution_count": 172,
   "id": "3c7f4756",
   "metadata": {},
   "outputs": [],
   "source": [
    "somadeevreaisc = 226+340"
   ]
  },
  {
   "cell_type": "code",
   "execution_count": 173,
   "id": "b377a763",
   "metadata": {},
   "outputs": [
    {
     "data": {
      "text/plain": [
       "566"
      ]
     },
     "execution_count": 173,
     "metadata": {},
     "output_type": "execute_result"
    }
   ],
   "source": [
    "somadeevreaisc"
   ]
  },
  {
   "cell_type": "code",
   "execution_count": 170,
   "id": "e895d73c",
   "metadata": {},
   "outputs": [
    {
     "data": {
      "text/plain": [
       "20820"
      ]
     },
     "execution_count": 170,
     "metadata": {},
     "output_type": "execute_result"
    }
   ],
   "source": [
    "sum(listaeventosc)"
   ]
  },
  {
   "cell_type": "code",
   "execution_count": 174,
   "id": "69f92773",
   "metadata": {},
   "outputs": [
    {
     "data": {
      "text/plain": [
       "14908666716.35"
      ]
     },
     "execution_count": 174,
     "metadata": {},
     "output_type": "execute_result"
    }
   ],
   "source": [
    "sum(listapesosc)"
   ]
  },
  {
   "cell_type": "markdown",
   "id": "170cc0fb",
   "metadata": {},
   "source": [
    "## Diferença"
   ]
  },
  {
   "cell_type": "code",
   "execution_count": 175,
   "id": "9dd4f4fd",
   "metadata": {},
   "outputs": [
    {
     "data": {
      "text/plain": [
       "4651"
      ]
     },
     "execution_count": 175,
     "metadata": {},
     "output_type": "execute_result"
    }
   ],
   "source": [
    "10581 - 5930"
   ]
  },
  {
   "cell_type": "code",
   "execution_count": null,
   "id": "8ed60ac8",
   "metadata": {},
   "outputs": [],
   "source": []
  }
 ],
 "metadata": {
  "kernelspec": {
   "display_name": "Python 3",
   "language": "python",
   "name": "python3"
  },
  "language_info": {
   "codemirror_mode": {
    "name": "ipython",
    "version": 3
   },
   "file_extension": ".py",
   "mimetype": "text/x-python",
   "name": "python",
   "nbconvert_exporter": "python",
   "pygments_lexer": "ipython3",
   "version": "3.8.8"
  }
 },
 "nbformat": 4,
 "nbformat_minor": 5
}
