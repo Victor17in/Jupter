{
 "cells": [
  {
   "cell_type": "markdown",
   "metadata": {},
   "source": [
    "<CENTER>\n",
    "    <a href=\"http://opendata.atlas.cern/release/2020/documentation/notebooks/intro.html\" class=\"icons\"><img src=\"../../images/ATLASOD.gif\" style=\"width:40%\"></a>\n",
    "</CENTER>"
   ]
  },
  {
   "cell_type": "markdown",
   "metadata": {},
   "source": [
    "# A simple introductional notebook to HEP analysis in python\n",
    "<p> In this notebook you can find an easy set of commands that show the basic computing techniques commonly used in high energy  physics (HEP) analyzes. It also shows how to create a histogram, fill it and draw it. Moreover it is an introduction to [ROOT](https://root.cern.ch/) too. At the end you get a plot with the number of leptons.</p>\n",
    "\n",
    "\n",
    "<CENTER><h1>Simple pyROOT notebook example</h1></CENTER>"
   ]
  },
  {
   "cell_type": "markdown",
   "metadata": {},
   "source": [
    "The library used is ROOT - a scientific software framework that provides all the functionalities needed to deal with big data processing, statistical analysis, visualisation and storage.\n",
    "\n",
    "First of all ROOT is imported to read the files in the _.root_ data format. A _.root_ file consists of a tree having branches and leaves. At this point you could also import further programs that contain other formulas that you maybe use more often. But here we don't import other programs to keep it simple."
   ]
  },
  {
   "cell_type": "code",
   "execution_count": 1,
   "metadata": {},
   "outputs": [
    {
     "name": "stdout",
     "output_type": "stream",
     "text": [
      "Welcome to JupyROOT 6.24/02\n"
     ]
    }
   ],
   "source": [
    "import ROOT"
   ]
  },
  {
   "cell_type": "markdown",
   "metadata": {},
   "source": [
    "In order to activate the interactive visualisation of the histogram that is later created we can use the JSROOT magic \n",
    "\n",
    "*(if gives yo an error, don't worry, it maybe that your ROOT is simply too old)*"
   ]
  },
  {
   "cell_type": "markdown",
   "metadata": {},
   "source": [
    "### The following analysis is searching for events where [Z bosons](https://en.wikipedia.org/wiki/W_and_Z_bosons) decay to two leptons of same flavour and opposite charge (to be seen for example in the [Feynman diagram](https://en.wikipedia.org/wiki/Feynman_diagram))."
   ]
  },
  {
   "cell_type": "markdown",
   "metadata": {},
   "source": [
    "<CENTER><img src=\"../../images/Z_ElectronPositron.png\" style=\"width:30%\"></CENTER>"
   ]
  },
  {
   "cell_type": "markdown",
   "metadata": {},
   "source": [
    "Next we have to open the data that we want to analyze. As described above the data is stored in a _*.root_ file."
   ]
  },
  {
   "cell_type": "code",
   "execution_count": 2,
   "metadata": {},
   "outputs": [],
   "source": [
    "# Diboson processes\n",
    "WW = \"http://opendata.atlas.cern/release/samples/MC/mc_105985.WW.root\"\n",
    "ZZ                    = \"http://opendata.atlas.cern/release/samples/MC/mc_105986.ZZ.root\"\n",
    "WZ                    = \"http://opendata.atlas.cern/release/samples/MC/mc_105987.WZ.root\"\n",
    "\n",
    "  # single top processes\n",
    "stop_tchan_top        = \"http://opendata.atlas.cern/release/samples/MC/mc_110090.stop_tchan_top.root\"\n",
    "stop_tchan_antitop    = \"http://opendata.atlas.cern/release/samples/MC/mc_110091.stop_tchan_antitop.root\"\n",
    "stop_schan            = \"http://opendata.atlas.cern/release/samples/MC/mc_110119.stop_schan.root\"\n",
    "stop_wtchan           = \"http://opendata.atlas.cern/release/samples/MC/mc_110140.stop_wtchan.root\"\n",
    "\n",
    "  # top pair processes\n",
    "ttbar_had             = \"http://opendata.atlas.cern/release/samples/MC/mc_117049.ttbar_had.root\"\n",
    "ttbar_lep             = \"http://opendata.atlas.cern/release/samples/MC/mc_117050.ttbar_lep.root\"\n",
    "\n",
    "  # Z+jets processes\n",
    "Zee                   = \"http://opendata.atlas.cern/release/samples/MC/mc_147770.Zee.root\"\n",
    "Zmumu                 = \"http://opendata.atlas.cern/release/samples/MC/mc_147771.Zmumu.root\"\n",
    "Ztautau               = \"http://opendata.atlas.cern/release/samples/MC/mc_147772.Ztautau.root\"\n",
    "\n",
    "  # Low Mass Z+jets processes\n",
    "DYeeM08to15           = \"http://opendata.atlas.cern/release/samples/MC/mc_173041.DYeeM08to15.root\"\n",
    "DYeeM15to40           = \"http://opendata.atlas.cern/release/samples/MC/mc_173042.DYeeM15to40.root\"\n",
    "DYmumuM08to15         = \"http://opendata.atlas.cern/release/samples/MC/mc_173043.DYmumuM08to15.root\"\n",
    "DYmumuM15to40         = \"http://opendata.atlas.cern/release/samples/MC/mc_173044.DYmumuM15to40.root\"\n",
    "DYtautauM08to15      = \"http://opendata.atlas.cern/release/samples/MC/mc_173045.DYtautauM08to15.root\"\n",
    "DYtautauM15to40       = \"http://opendata.atlas.cern/release/samples/MC/mc_173046.DYtautauM15to40.root\"\n",
    "\n",
    "  # W+jets processes\n",
    "WenuWithB             = \"http://opendata.atlas.cern/release/samples/MC/mc_167740.WenuWithB.root\"\n",
    "WenuJetsBVeto         = \"http://opendata.atlas.cern/release/samples/MC/mc_167741.WenuJetsBVeto.root\"\n",
    "WenuNoJetsBVeto       = \"http://opendata.atlas.cern/release/samples/MC/mc_167742.WenuNoJetsBVeto.root\"\n",
    "WmunuWithB            = \"http://opendata.atlas.cern/release/samples/MC/mc_167743.WmunuWithB.root\"\n",
    "WmunuJetsBVeto        = \"http://opendata.atlas.cern/release/samples/MC/mc_167744.WmunuJetsBVeto.root\"\n",
    "WmunuNoJetsBVeto      = \"http://opendata.atlas.cern/release/samples/MC/mc_167745.WmunuNoJetsBVeto.root\"\n",
    "WtaunuWithB           = \"http://opendata.atlas.cern/release/samples/MC/mc_167746.WtaunuWithB.root\"\n",
    "WtaunuJetsBVeto       = \"http://opendata.atlas.cern/release/samples/MC/mc_167747.WtaunuJetsBVeto.root\"\n",
    "WtaunuNoJetsBVeto     = \"http://opendata.atlas.cern/release/samples/MC/mc_167748.WtaunuNoJetsBVeto.root\"\n",
    "\n",
    "  # Higgs Processes\n",
    "ggH125_ZZ4lep         = \"http://opendata.atlas.cern/release/samples/MC/mc_160155.ggH125_ZZ4lep.root\"\n",
    "VBFH125_ZZ4lep        = \"http://opendata.atlas.cern/release/samples/MC/mc_160205.VBFH125_ZZ4lep.root\"\n",
    "ggH125_WW2lep         = \"http://opendata.atlas.cern/release/samples/MC/mc_161005.ggH125_WW2lep.root\"\n",
    "VBFH125_WW2lep        = \"http://opendata.atlas.cern/release/samples/MC/mc_161055.VBFH125_WW2lep.root\"\n",
    "\n",
    "  # ZPrime Processes\n",
    "ZPrime400             = \"http://opendata.atlas.cern/release/samples/MC/mc_110899.ZPrime400.root\"\n",
    "ZPrime500             = \"http://opendata.atlas.cern/release/samples/MC/mc_110901.ZPrime500.root\"\n",
    "ZPrime750             = \"http://opendata.atlas.cern/release/samples/MC/mc_110902.ZPrime750.root\"\n",
    "ZPrime1000            = \"http://opendata.atlas.cern/release/samples/MC/mc_110903.ZPrime1000.root\"\n",
    "ZPrime1250            = \"http://opendata.atlas.cern/release/samples/MC/mc_110904.ZPrime1250.root\"\n",
    "ZPrime1500            = \"http://opendata.atlas.cern/release/samples/MC/mc_110905.ZPrime1500.root\"\n",
    "ZPrime1750            = \"http://opendata.atlas.cern/release/samples/MC/mc_110906.ZPrime1750.root\"\n",
    "ZPrime2000            = \"http://opendata.atlas.cern/release/samples/MC/mc_110907.ZPrime2000.root\"\n",
    "ZPrime2250            = \"http://opendata.atlas.cern/release/samples/MC/mc_110908.ZPrime2250.root\"\n",
    "ZPrime2500            = \"http://opendata.atlas.cern/release/samples/MC/mc_110909.ZPrime2500.root\"\n",
    "ZPrime3000           = \"http://opendata.atlas.cern/release/samples/MC/mc_110910.ZPrime3000.root\"\n",
    "\n",
    "  # Data\n",
    "data_Egamma          = \"http://opendata.atlas.cern/release/samples/Data/DataEgamma.root\"\n",
    "data_Muons            = \"http://opendata.atlas.cern/release/samples/Data/DataMuons.root\""
   ]
  },
  {
   "cell_type": "code",
   "execution_count": 3,
   "metadata": {},
   "outputs": [],
   "source": [
    "f = ROOT.TFile.Open(WW)\n",
    "g = ROOT.TFile.Open(WZ) ## 8 TeV sample\n",
    "##f = ROOT.TFile.Open(\"/home/student/datasets/MC/mc_105987.WZ.root\") ## local file exampl"
   ]
  },
  {
   "cell_type": "markdown",
   "metadata": {},
   "source": [
    "After the data is opened we create a canvas on which we can draw a histogram. If we do not have a canvas we cannot see our histogram at the end. Its name is _Canvas_ and its header is _a first way to plot a variable_. The two following arguments define the width and the height of the canvas."
   ]
  },
  {
   "cell_type": "code",
   "execution_count": 4,
   "metadata": {},
   "outputs": [],
   "source": [
    "canvas = ROOT.TCanvas(\"Canvas\",\"a first way to plot a variable\",800,600)"
   ]
  },
  {
   "cell_type": "markdown",
   "metadata": {},
   "source": [
    "The next step is to define a tree named _tree_ to get the data out of the _*.root_ file."
   ]
  },
  {
   "cell_type": "code",
   "execution_count": 5,
   "metadata": {},
   "outputs": [],
   "source": [
    "tree = f.Get(\"mini\")"
   ]
  },
  {
   "cell_type": "code",
   "execution_count": 6,
   "metadata": {},
   "outputs": [],
   "source": [
    "tree2 = g.Get(\"mini\")"
   ]
  },
  {
   "cell_type": "markdown",
   "metadata": {},
   "source": [
    "## Ver o que está dentro de \"mini\""
   ]
  },
  {
   "cell_type": "code",
   "execution_count": 7,
   "metadata": {},
   "outputs": [
    {
     "name": "stdout",
     "output_type": "stream",
     "text": [
      "******************************************************************************\n",
      "*Tree    :mini      : 4-vectors + variables required for scaling factors     *\n",
      "*Entries :   500000 : Total =       143220122 bytes  File  Size =   64712596 *\n",
      "*        :          : Tree compression factor =   2.21                       *\n",
      "******************************************************************************\n",
      "*Br    0 :runNumber : runNumber/I                                            *\n",
      "*Entries :   500000 : Total  Size=    2000881 bytes  File Size  =      10270 *\n",
      "*Baskets :        5 : Basket Size=     825856 bytes  Compression= 194.78     *\n",
      "*............................................................................*\n",
      "*Br    1 :eventNumber : eventNumber/I                                        *\n",
      "*Entries :   500000 : Total  Size=    2000899 bytes  File Size  =    1066583 *\n",
      "*Baskets :        5 : Basket Size=     825856 bytes  Compression=   1.88     *\n",
      "*............................................................................*\n",
      "*Br    2 :channelNumber : channelNumber/I                                    *\n",
      "*Entries :   500000 : Total  Size=    2000917 bytes  File Size  =      10280 *\n",
      "*Baskets :        5 : Basket Size=     825856 bytes  Compression= 194.59     *\n",
      "*............................................................................*\n",
      "*Br    3 :mcWeight  : mcWeight/F                                             *\n",
      "*Entries :   500000 : Total  Size=    2000872 bytes  File Size  =      10255 *\n",
      "*Baskets :        5 : Basket Size=     825856 bytes  Compression= 195.06     *\n",
      "*............................................................................*\n",
      "*Br    4 :pvxp_n    : pvxp_n/I                                               *\n",
      "*Entries :   500000 : Total  Size=    2000854 bytes  File Size  =     461489 *\n",
      "*Baskets :        5 : Basket Size=     825856 bytes  Compression=   4.33     *\n",
      "*............................................................................*\n",
      "*Br    5 :vxp_z     : vxp_z/F                                                *\n",
      "*Entries :   500000 : Total  Size=    2000845 bytes  File Size  =    1858423 *\n",
      "*Baskets :        5 : Basket Size=     825856 bytes  Compression=   1.08     *\n",
      "*............................................................................*\n",
      "*Br    6 :scaleFactor_PILEUP : scaleFactor_PILEUP/F                          *\n",
      "*Entries :   500000 : Total  Size=    2000962 bytes  File Size  =      81995 *\n",
      "*Baskets :        5 : Basket Size=     825856 bytes  Compression=  24.40     *\n",
      "*............................................................................*\n",
      "*Br    7 :scaleFactor_ELE : scaleFactor_ELE/F                                *\n",
      "*Entries :   500000 : Total  Size=    2000935 bytes  File Size  =     638471 *\n",
      "*Baskets :        5 : Basket Size=     825856 bytes  Compression=   3.13     *\n",
      "*............................................................................*\n",
      "*Br    8 :scaleFactor_MUON : scaleFactor_MUON/F                              *\n",
      "*Entries :   500000 : Total  Size=    2000944 bytes  File Size  =     779431 *\n",
      "*Baskets :        5 : Basket Size=     825856 bytes  Compression=   2.57     *\n",
      "*............................................................................*\n",
      "*Br    9 :scaleFactor_BTAG : scaleFactor_BTAG/F                              *\n",
      "*Entries :   500000 : Total  Size=    2000944 bytes  File Size  =    1263625 *\n",
      "*Baskets :        5 : Basket Size=     825856 bytes  Compression=   1.58     *\n",
      "*............................................................................*\n",
      "*Br   10 :scaleFactor_TRIGGER : scaleFactor_TRIGGER/F                        *\n",
      "*Entries :   500000 : Total  Size=    2000971 bytes  File Size  =    1060431 *\n",
      "*Baskets :        5 : Basket Size=     825856 bytes  Compression=   1.89     *\n",
      "*............................................................................*\n",
      "*Br   11 :scaleFactor_JVFSF : scaleFactor_JVFSF/F                            *\n",
      "*Entries :   500000 : Total  Size=    2000953 bytes  File Size  =      10300 *\n",
      "*Baskets :        5 : Basket Size=     825856 bytes  Compression= 194.22     *\n",
      "*............................................................................*\n",
      "*Br   12 :scaleFactor_ZVERTEX : scaleFactor_ZVERTEX/F                        *\n",
      "*Entries :   500000 : Total  Size=    2000971 bytes  File Size  =     943085 *\n",
      "*Baskets :        5 : Basket Size=     825856 bytes  Compression=   2.12     *\n",
      "*............................................................................*\n",
      "*Br   13 :trigE     : trigE/O                                                *\n",
      "*Entries :   500000 : Total  Size=     502967 bytes  File Size  =     114761 *\n",
      "*Baskets :       29 : Basket Size=      16384 bytes  Compression=   4.38     *\n",
      "*............................................................................*\n",
      "*Br   14 :trigM     : trigM/O                                                *\n",
      "*Entries :   500000 : Total  Size=     502967 bytes  File Size  =     114797 *\n",
      "*Baskets :       29 : Basket Size=      16384 bytes  Compression=   4.37     *\n",
      "*............................................................................*\n",
      "*Br   15 :passGRL   : passGRL/O                                              *\n",
      "*Entries :   500000 : Total  Size=     503033 bytes  File Size  =       5281 *\n",
      "*Baskets :       29 : Basket Size=      16384 bytes  Compression=  95.09     *\n",
      "*............................................................................*\n",
      "*Br   16 :hasGoodVertex : hasGoodVertex/O                                    *\n",
      "*Entries :   500000 : Total  Size=     503231 bytes  File Size  =      25224 *\n",
      "*Baskets :       29 : Basket Size=      16384 bytes  Compression=  19.91     *\n",
      "*............................................................................*\n",
      "*Br   17 :lep_n     : lep_n/i                                                *\n",
      "*Entries :   500000 : Total  Size=    2000845 bytes  File Size  =     145023 *\n",
      "*Baskets :        5 : Basket Size=     825856 bytes  Compression=  13.79     *\n",
      "*............................................................................*\n",
      "*Br   18 :lep_truthMatched : lep_truthMatched[lep_n]/O                       *\n",
      "*Entries :   500000 : Total  Size=    2572205 bytes  File Size  =     734658 *\n",
      "*Baskets :        9 : Basket Size=     825856 bytes  Compression=   3.50     *\n",
      "*............................................................................*\n",
      "*Br   19 :lep_trigMatched : lep_trigMatched[lep_n]/s                         *\n",
      "*Entries :   500000 : Total  Size=    3142966 bytes  File Size  =     876588 *\n",
      "*Baskets :        9 : Basket Size=     825856 bytes  Compression=   3.58     *\n",
      "*............................................................................*\n",
      "*Br   20 :lep_pt    : lep_pt[lep_n]/F                                        *\n",
      "*Entries :   500000 : Total  Size=    4284397 bytes  File Size  =    2638716 *\n",
      "*Baskets :        9 : Basket Size=     825856 bytes  Compression=   1.62     *\n",
      "*............................................................................*\n",
      "*Br   21 :lep_eta   : lep_eta[lep_n]/F                                       *\n",
      "*Entries :   500000 : Total  Size=    4284410 bytes  File Size  =    2725141 *\n",
      "*Baskets :        9 : Basket Size=     825856 bytes  Compression=   1.57     *\n",
      "*............................................................................*\n",
      "*Br   22 :lep_phi   : lep_phi[lep_n]/F                                       *\n",
      "*Entries :   500000 : Total  Size=    4284410 bytes  File Size  =    2727472 *\n",
      "*Baskets :        9 : Basket Size=     825856 bytes  Compression=   1.57     *\n",
      "*............................................................................*\n",
      "*Br   23 :lep_E     : lep_E[lep_n]/F                                         *\n",
      "*Entries :   500000 : Total  Size=    4284384 bytes  File Size  =    2657608 *\n",
      "*Baskets :        9 : Basket Size=     825856 bytes  Compression=   1.61     *\n",
      "*............................................................................*\n",
      "*Br   24 :lep_z0    : lep_z0[lep_n]/F                                        *\n",
      "*Entries :   500000 : Total  Size=    4284397 bytes  File Size  =    2752020 *\n",
      "*Baskets :        9 : Basket Size=     825856 bytes  Compression=   1.56     *\n",
      "*............................................................................*\n",
      "*Br   25 :lep_charge : lep_charge[lep_n]/F                                   *\n",
      "*Entries :   500000 : Total  Size=    4284449 bytes  File Size  =     872518 *\n",
      "*Baskets :        9 : Basket Size=     825856 bytes  Compression=   4.91     *\n",
      "*............................................................................*\n",
      "*Br   26 :lep_type  : lep_type[lep_n]/i                                      *\n",
      "*Entries :   500000 : Total  Size=    4284416 bytes  File Size  =     858422 *\n",
      "*Baskets :        9 : Basket Size=     825856 bytes  Compression=   4.99     *\n",
      "*............................................................................*\n",
      "*Br   27 :lep_flag  : lep_flag[lep_n]/i                                      *\n",
      "*Entries :   500000 : Total  Size=    4284416 bytes  File Size  =    1156479 *\n",
      "*Baskets :        9 : Basket Size=     825856 bytes  Compression=   3.70     *\n",
      "*............................................................................*\n",
      "*Br   28 :lep_ptcone30 : lep_ptcone30[lep_n]/F                               *\n",
      "*Entries :   500000 : Total  Size=    4284475 bytes  File Size  =    1203227 *\n",
      "*Baskets :        9 : Basket Size=     825856 bytes  Compression=   3.56     *\n",
      "*............................................................................*\n",
      "*Br   29 :lep_etcone20 : lep_etcone20[lep_n]/F                               *\n",
      "*Entries :   500000 : Total  Size=    4284475 bytes  File Size  =    2688183 *\n",
      "*Baskets :        9 : Basket Size=     825856 bytes  Compression=   1.59     *\n",
      "*............................................................................*\n",
      "*Br   30 :lep_trackd0pvunbiased : lep_trackd0pvunbiased[lep_n]/F             *\n",
      "*Entries :   500000 : Total  Size=    4284592 bytes  File Size  =    2746802 *\n",
      "*Baskets :        9 : Basket Size=     825856 bytes  Compression=   1.56     *\n",
      "*............................................................................*\n",
      "*Br   31 :lep_tracksigd0pvunbiased : lep_tracksigd0pvunbiased[lep_n]/F       *\n",
      "*Entries :   500000 : Total  Size=    4284631 bytes  File Size  =    2604063 *\n",
      "*Baskets :        9 : Basket Size=     825856 bytes  Compression=   1.65     *\n",
      "*............................................................................*\n",
      "*Br   32 :met_et    : met_et/F                                               *\n",
      "*Entries :   500000 : Total  Size=    2000854 bytes  File Size  =    1787533 *\n",
      "*Baskets :        5 : Basket Size=     825856 bytes  Compression=   1.12     *\n",
      "*............................................................................*\n",
      "*Br   33 :met_phi   : met_phi/F                                              *\n",
      "*Entries :   500000 : Total  Size=    2000863 bytes  File Size  =    1854280 *\n",
      "*Baskets :        5 : Basket Size=     825856 bytes  Compression=   1.08     *\n",
      "*............................................................................*\n",
      "*Br   34 :jet_n     : jet_n/i                                                *\n",
      "*Entries :   500000 : Total  Size=    2000845 bytes  File Size  =     308258 *\n",
      "*Baskets :        5 : Basket Size=     825856 bytes  Compression=   6.49     *\n",
      "*............................................................................*\n",
      "*Br   35 :alljet_n  : alljet_n/i                                             *\n",
      "*Entries :   500000 : Total  Size=    2000872 bytes  File Size  =     321875 *\n",
      "*Baskets :        5 : Basket Size=     825856 bytes  Compression=   6.21     *\n",
      "*............................................................................*\n",
      "*Br   36 :jet_pt    : jet_pt[alljet_n]/F                                     *\n",
      "*Entries :   500000 : Total  Size=    4806336 bytes  File Size  =    3167387 *\n",
      "*Baskets :       12 : Basket Size=     825856 bytes  Compression=   1.52     *\n",
      "*............................................................................*\n",
      "*Br   37 :jet_eta   : jet_eta[alljet_n]/F                                    *\n",
      "*Entries :   500000 : Total  Size=    4806352 bytes  File Size  =    3277414 *\n",
      "*Baskets :       12 : Basket Size=     825856 bytes  Compression=   1.47     *\n",
      "*............................................................................*\n",
      "*Br   38 :jet_phi   : jet_phi[alljet_n]/F                                    *\n",
      "*Entries :   500000 : Total  Size=    4806352 bytes  File Size  =    3278088 *\n",
      "*Baskets :       12 : Basket Size=     825856 bytes  Compression=   1.47     *\n",
      "*............................................................................*\n",
      "*Br   39 :jet_E     : jet_E[alljet_n]/F                                      *\n",
      "*Entries :   500000 : Total  Size=    4806320 bytes  File Size  =    3186162 *\n",
      "*Baskets :       12 : Basket Size=     825856 bytes  Compression=   1.51     *\n",
      "*............................................................................*\n",
      "*Br   40 :jet_m     : jet_m[alljet_n]/F                                      *\n",
      "*Entries :   500000 : Total  Size=    4806320 bytes  File Size  =    3162633 *\n",
      "*Baskets :       12 : Basket Size=     825856 bytes  Compression=   1.52     *\n",
      "*............................................................................*\n",
      "*Br   41 :jet_jvf   : jet_jvf[alljet_n]/F                                    *\n",
      "*Entries :   500000 : Total  Size=    4806352 bytes  File Size  =    2855113 *\n",
      "*Baskets :       12 : Basket Size=     825856 bytes  Compression=   1.68     *\n",
      "*............................................................................*\n",
      "*Br   42 :jet_trueflav : jet_trueflav[alljet_n]/I                            *\n",
      "*Entries :   500000 : Total  Size=    4806425 bytes  File Size  =     944836 *\n",
      "*Baskets :       12 : Basket Size=     825856 bytes  Compression=   5.09     *\n",
      "*............................................................................*\n",
      "*Br   43 :jet_truthMatched : jet_truthMatched[alljet_n]/I                    *\n",
      "*Entries :   500000 : Total  Size=    4806489 bytes  File Size  =     855157 *\n",
      "*Baskets :       12 : Basket Size=     825856 bytes  Compression=   5.62     *\n",
      "*............................................................................*\n",
      "*Br   44 :jet_SV0   : jet_SV0[alljet_n]/F                                    *\n",
      "*Entries :   500000 : Total  Size=    4806352 bytes  File Size  =     859204 *\n",
      "*Baskets :       12 : Basket Size=     825856 bytes  Compression=   5.59     *\n",
      "*............................................................................*\n",
      "*Br   45 :jet_MV1   : jet_MV1[alljet_n]/F                                    *\n",
      "*Entries :   500000 : Total  Size=    4806352 bytes  File Size  =    3004945 *\n",
      "*Baskets :       12 : Basket Size=     825856 bytes  Compression=   1.60     *\n",
      "*............................................................................*\n"
     ]
    }
   ],
   "source": [
    "tree.Print()"
   ]
  },
  {
   "cell_type": "code",
   "execution_count": 8,
   "metadata": {},
   "outputs": [
    {
     "data": {
      "text/plain": [
       "500000"
      ]
     },
     "execution_count": 8,
     "metadata": {},
     "output_type": "execute_result"
    }
   ],
   "source": [
    "tree.GetEntries()"
   ]
  },
  {
   "cell_type": "markdown",
   "metadata": {},
   "source": [
    "Now we define a histogram that will later be placed on this canvas. Its name is _variable_ and the header of the histogram is _Example plot: Number of leptons_. The three following arguments indicate that this histogram contains 4 so called bins which have a range from 0 to 4."
   ]
  },
  {
   "cell_type": "code",
   "execution_count": 9,
   "metadata": {},
   "outputs": [],
   "source": [
    "hist = ROOT.TH1F(\"variable\",\"Example plot: Momento dos jatos; GeV ; Eventos \",10,0,400)"
   ]
  },
  {
   "cell_type": "code",
   "execution_count": 10,
   "metadata": {},
   "outputs": [
    {
     "name": "stderr",
     "output_type": "stream",
     "text": [
      "Warning in <TDavixFile::Append>: Replacing existing TH1: variable (Potential memory leak).\n"
     ]
    }
   ],
   "source": [
    "hist2 = ROOT.TH1F(\"variable\",\"Example plot: Momento dos jatos; GeV ; Eventos \",10,0,400)"
   ]
  },
  {
   "cell_type": "markdown",
   "metadata": {},
   "source": [
    "The following lines are a loop that goes over the data that is stored in the tree and fills the histogram _h_ that we already defined. In this first notebook we don't do any cuts to keep it simple. Accordingly the loop fills the histogram for each event stored in the tree. After the program has looped over all the data it prints the word __Done!__."
   ]
  },
  {
   "cell_type": "code",
   "execution_count": 11,
   "metadata": {},
   "outputs": [
    {
     "data": {
      "text/plain": [
       "cppyy.LowLevelView"
      ]
     },
     "execution_count": 11,
     "metadata": {},
     "output_type": "execute_result"
    }
   ],
   "source": [
    "type(tree.jet_pt)"
   ]
  },
  {
   "cell_type": "code",
   "execution_count": 12,
   "metadata": {},
   "outputs": [],
   "source": [
    "for event in tree:\n",
    "    eventWeight = tree.mcWeight*tree.scaleFactor_PILEUP*tree.scaleFactor_ZVERTEX \n",
    "    scalefactor = tree.scaleFactor_MUON*tree.scaleFactor_ELE*tree.scaleFactor_TRIGGER \n",
    "    wpeso = tree.mcWeight*tree.scaleFactor_PILEUP*tree.scaleFactor_ZVERTEX*scalefactor "
   ]
  },
  {
   "cell_type": "code",
   "execution_count": 13,
   "metadata": {},
   "outputs": [],
   "source": [
    "for event in tree2:\n",
    "    eventWeight2 = tree2.mcWeight*tree2.scaleFactor_PILEUP*tree2.scaleFactor_ZVERTEX \n",
    "    scalefactor2 = tree2.scaleFactor_MUON*tree2.scaleFactor_ELE*tree2.scaleFactor_TRIGGER \n",
    "    wpeso2 = tree2.mcWeight*tree2.scaleFactor_PILEUP*tree2.scaleFactor_ZVERTEX*scalefactor2"
   ]
  },
  {
   "cell_type": "code",
   "execution_count": 14,
   "metadata": {},
   "outputs": [
    {
     "name": "stdout",
     "output_type": "stream",
     "text": [
      "0.26516701350892696\n",
      "0.31082987785339355\n",
      "0.8428592085838318\n",
      "0.2619858248517204\n",
      "outro\n",
      "1.012142598398242\n",
      "1.0\n",
      "1.013404369354248\n",
      "0.26516701350892696\n"
     ]
    }
   ],
   "source": [
    "# type(weight)\n",
    "print(eventWeight*scalefactor)\n",
    "print(tree.scaleFactor_PILEUP)\n",
    "print(tree.scaleFactor_ZVERTEX)\n",
    "print(eventWeight)\n",
    "print(\"outro\")\n",
    "print(tree.scaleFactor_MUON*tree.scaleFactor_ELE*tree.scaleFactor_TRIGGER)\n",
    "print(tree.scaleFactor_ELE)\n",
    "print(tree.scaleFactor_TRIGGER)\n",
    "print(wpeso)"
   ]
  },
  {
   "cell_type": "code",
   "execution_count": 15,
   "metadata": {},
   "outputs": [
    {
     "name": "stdout",
     "output_type": "stream",
     "text": [
      "0.26516701350892696\n",
      "0.31082987785339355\n",
      "0.8546679019927979\n",
      "0.2656563195816375\n",
      "outro\n",
      "0.9041094970233594\n",
      "0.9092007279396057\n",
      "0.9944003224372864\n",
      "0.2401824014780311\n"
     ]
    }
   ],
   "source": [
    "# type(weight)\n",
    "print(eventWeight*scalefactor)\n",
    "print(tree2.scaleFactor_PILEUP)\n",
    "print(tree2.scaleFactor_ZVERTEX)\n",
    "print(eventWeight2)\n",
    "print(\"outro\")\n",
    "print(tree2.scaleFactor_MUON*tree2.scaleFactor_ELE*tree2.scaleFactor_TRIGGER)\n",
    "print(tree2.scaleFactor_ELE)\n",
    "print(tree2.scaleFactor_TRIGGER)\n",
    "print(wpeso2)"
   ]
  },
  {
   "cell_type": "markdown",
   "metadata": {},
   "source": [
    "## Se você for utilizar uma variável com um vetor usar dessa forma por exemplo:\n",
    "## Para : jet_eta   : jet_eta[alljet_n]/F"
   ]
  },
  {
   "cell_type": "markdown",
   "metadata": {},
   "source": [
    "## Para os elementos (i) da folha jet_pt (presente na árvore mini) que contém valores referentes aos jatos (alljet_n)"
   ]
  },
  {
   "cell_type": "markdown",
   "metadata": {},
   "source": [
    "## Demora em torno de 5 minutos para rodar"
   ]
  },
  {
   "cell_type": "markdown",
   "metadata": {},
   "source": [
    "## Divisão por mil dentro do for para encontrar o resultado em GeV "
   ]
  },
  {
   "cell_type": "code",
   "execution_count": 16,
   "metadata": {},
   "outputs": [
    {
     "name": "stdout",
     "output_type": "stream",
     "text": [
      "137.0065754044841\n",
      "119.21028075688356\n",
      "143.03529661305467\n",
      "128.58054551853272\n",
      "117.00913766421513\n",
      "114.8615003029913\n",
      "124.73472059751352\n",
      "107.86400798350422\n",
      "122.59403558392512\n",
      "102.07484031223146\n",
      "114.70776144044034\n",
      "176.47554183254212\n",
      "183.21118172618912\n",
      "122.52394862766704\n",
      "150.2493806637635\n",
      "117.74360057281982\n",
      "109.63524076905213\n",
      "102.80343640066229\n",
      "121.62074834730979\n",
      "107.62662550112952\n",
      "115.57851190751944\n",
      "116.92325669771493\n",
      "108.19158039634866\n",
      "118.62096364229832\n",
      "148.9221368964596\n",
      "128.0074367376482\n",
      "102.82225497215224\n",
      "111.48422549484236\n",
      "157.4976049674616\n",
      "140.81856667187338\n",
      "110.71834858160604\n",
      "137.03432678974164\n",
      "131.81610513089947\n",
      "143.4582048537247\n",
      "105.66756331885641\n",
      "128.1937165646382\n",
      "126.02134409293551\n",
      "146.37694789023251\n",
      "114.05661897936164\n",
      "114.80343701350202\n",
      "102.33320413455006\n",
      "107.76713915888175\n",
      "120.0818267250032\n",
      "128.78183214119352\n",
      "166.4250325300817\n",
      "166.60871040575165\n",
      "158.7658656471981\n",
      "113.37127826000948\n",
      "102.6694607670869\n",
      "117.32224190188496\n",
      "118.35336040685279\n",
      "154.05417927591137\n",
      "124.42254444439097\n",
      "143.30931357563944\n",
      "107.83042292394948\n",
      "140.4828983786478\n",
      "109.64162963678388\n",
      "121.7033478720178\n",
      "131.28229907329847\n",
      "215.30273779615516\n",
      "229.09674241182788\n",
      "194.99326477273956\n",
      "100.37703393001802\n",
      "106.590369385275\n",
      "121.82963366220143\n",
      "130.1979648633071\n",
      "123.90395234419005\n",
      "104.46793946327284\n",
      "110.14866211248963\n",
      "120.76553500992846\n",
      "104.87451507320458\n",
      "125.58470517284721\n",
      "119.9473207574008\n",
      "102.6282770153013\n",
      "227.9854108852736\n",
      "105.60933429998367\n",
      "129.96536367364476\n",
      "147.36660090346285\n",
      "150.41842463487544\n",
      "104.70695438007446\n",
      "114.9704176537901\n",
      "106.96113087544467\n",
      "132.7168774757893\n",
      "136.8110644508363\n",
      "123.03245609488545\n",
      "104.64678632741546\n",
      "187.56527380682076\n",
      "114.97122972776897\n",
      "105.13326835957427\n",
      "127.26336152480381\n",
      "101.47787478660032\n",
      "152.1088477730565\n",
      "109.31496873554839\n",
      "133.92140692112278\n",
      "118.11043427660191\n",
      "100.16742769230838\n",
      "116.71302897481739\n",
      "104.90938453548101\n",
      "113.75162719501134\n",
      "106.72443617001126\n",
      "144.46482855581962\n",
      "144.38350514736413\n",
      "102.30998544792968\n",
      "107.91922072759829\n",
      "111.77479882283312\n",
      "101.33620102316401\n",
      "104.43540678530297\n",
      "149.26799754676696\n",
      "218.03568162088493\n",
      "172.23575330767122\n",
      "100.92382488481178\n",
      "107.83000860049088\n",
      "110.81960094842059\n",
      "103.51481320615336\n",
      "122.74757557121596\n",
      "172.92003335896933\n",
      "114.49953075661327\n",
      "118.95931675153571\n",
      "103.14937991566137\n",
      "111.93271406584685\n",
      "209.02219078944285\n",
      "107.76591276144427\n",
      "107.25899629630692\n",
      "118.52494832400058\n",
      "109.06901804404968\n",
      "174.3862909331053\n",
      "120.90413449330191\n",
      "105.19674271343297\n",
      "103.13304728492305\n",
      "109.18418339260427\n",
      "103.23892350153567\n",
      "101.51888452253333\n",
      "112.24274402345382\n",
      "159.3389247092676\n",
      "134.77782179653406\n",
      "124.37033968860638\n",
      "127.76723685575499\n",
      "123.68746833706753\n",
      "101.38085680553274\n",
      "146.2908017567188\n",
      "158.018674721945\n",
      "103.29332417165085\n",
      "135.6865988706442\n",
      "125.35645437950022\n",
      "104.72732252129961\n",
      "103.89978599095328\n",
      "149.5637747773978\n",
      "116.29082508402696\n",
      "128.83221387376022\n",
      "136.4019531813379\n",
      "111.67425909236738\n",
      "123.64441184324902\n",
      "116.5772386044933\n",
      "109.40283016818073\n",
      "121.02897843784957\n",
      "168.43387153267193\n",
      "128.63194648680758\n",
      "137.19504285933556\n",
      "182.12316832388532\n",
      "151.07588967193246\n",
      "109.25682258136739\n",
      "101.79060613315741\n",
      "113.17109373774858\n",
      "104.99633445650441\n",
      "105.47661820972246\n",
      "133.98968742710133\n",
      "109.9295015758245\n",
      "111.98447963876531\n",
      "102.93682369492645\n",
      "136.32043089762223\n",
      "100.40067522656616\n",
      "123.5341935167902\n",
      "105.98935177621867\n",
      "102.69204968205018\n",
      "125.12430894564234\n",
      "218.01035817109482\n",
      "114.08713804532269\n",
      "104.81301289900885\n",
      "121.88895649500489\n",
      "104.48095750634229\n",
      "123.75155588964496\n",
      "117.16755838184837\n",
      "112.31718137602729\n",
      "112.63730425308593\n",
      "112.79561724661994\n",
      "220.35683764657364\n",
      "151.4825232871484\n",
      "114.26199083132431\n",
      "111.89267384680701\n",
      "111.08856316481037\n",
      "158.46796708045918\n",
      "101.26074443488238\n",
      "175.89893616166697\n",
      "105.98128075524498\n",
      "131.79825607630264\n",
      "195.16083375233885\n",
      "128.21609831787222\n",
      "156.95346568280294\n",
      "106.11239755695598\n",
      "111.09114854319208\n",
      "116.34064333668996\n",
      "117.08825687187085\n",
      "155.73679656013226\n",
      "103.99068855777182\n",
      "119.52617753466441\n",
      "101.25032834313299\n",
      "103.11220681495507\n",
      "110.8980406656042\n",
      "121.67188414857114\n",
      "150.54340116292985\n",
      "139.36291577827782\n",
      "119.43589645303379\n",
      "107.4321917884741\n",
      "137.67221918661406\n",
      "113.29938485347186\n",
      "111.85614709069615\n",
      "145.8075017287221\n",
      "110.21303969148808\n",
      "110.52166094933578\n",
      "107.50729205858134\n",
      "100.54507523836013\n",
      "105.7671666783057\n",
      "107.52518254552403\n",
      "107.53964243422944\n",
      "104.97194737773077\n",
      "101.05441963896492\n",
      "123.0280311203475\n",
      "109.35443718821536\n",
      "113.47429564475769\n",
      "103.55503572751499\n",
      "218.76996222716784\n",
      "114.01980219682976\n",
      "162.8024699479678\n",
      "150.66441675872\n",
      "134.081849537234\n",
      "143.55827225544763\n",
      "194.39087160980068\n",
      "153.80943012244262\n",
      "114.2505969362126\n",
      "100.38491436220073\n",
      "103.95479985978722\n",
      "123.06284257733972\n",
      "186.45167178771334\n",
      "127.57924172964633\n",
      "114.36033464745944\n",
      "156.21489268548885\n",
      "130.88278353510142\n",
      "114.67952115350163\n",
      "116.52737891948445\n",
      "103.32110041631591\n",
      "182.69160353615672\n",
      "130.09444200393938\n",
      "143.1545223315036\n",
      "122.70331753936749\n",
      "230.76558758428467\n",
      "107.83449158031301\n",
      "153.8595466879958\n",
      "101.40966057237516\n",
      "122.030572253157\n",
      "104.68255901483163\n",
      "108.99731522630303\n",
      "105.40200684129638\n",
      "105.24105046409647\n",
      "248.278891023187\n",
      "167.4945671061316\n",
      "115.35503412041561\n",
      "234.53949423935876\n",
      "108.26695411993856\n",
      "120.76135862946569\n",
      "108.98350168219305\n",
      "114.85598151452264\n",
      "105.6281943038195\n",
      "122.64056410832677\n",
      "161.6537830183855\n",
      "167.81004956045385\n",
      "125.95526778775675\n",
      "110.09077283885296\n",
      "108.65463658015778\n",
      "124.43280309322608\n",
      "130.01904342094195\n",
      "137.73675420852678\n",
      "115.77718000592182\n",
      "153.8942172750121\n",
      "110.63731519957155\n",
      "100.86497438075114\n",
      "100.98337145228287\n",
      "156.15032451769943\n",
      "125.23380634928318\n",
      "117.5027129139853\n",
      "153.09926314145068\n",
      "122.17452479561565\n",
      "121.8738916940499\n",
      "114.53754079070593\n",
      "107.30854938195641\n",
      "116.41150093458104\n",
      "144.9215621636504\n",
      "110.08000871539834\n",
      "126.72687065119105\n",
      "106.67576973656321\n",
      "107.21601438071096\n",
      "126.6203232305755\n",
      "110.52466893764527\n",
      "104.700963262863\n",
      "130.58469437957154\n",
      "102.520105446728\n",
      "103.47937197750406\n",
      "168.1431490482361\n",
      "104.97272630583296\n",
      "134.3459227368122\n",
      "101.66461036939482\n",
      "101.06557322647063\n",
      "106.2393048323275\n",
      "150.09730738151615\n",
      "113.504201512\n",
      "138.88914518982907\n",
      "179.2334445024184\n",
      "145.76477669367046\n",
      "136.82848260903617\n",
      "113.47674015316348\n",
      "162.88530149381265\n",
      "115.98691882713823\n",
      "110.71712218416856\n",
      "112.02628487573882\n",
      "125.6065814514617\n",
      "102.84457872010204\n",
      "104.33287830223591\n",
      "110.1147787400447\n",
      "101.56525560402069\n",
      "143.57124886617123\n",
      "105.6365553512142\n",
      "136.12054468825156\n",
      "105.78849604995483\n",
      "139.08318115196423\n",
      "189.98255287490647\n",
      "151.69734171396735\n",
      "118.46785455140443\n",
      "195.43985574230362\n",
      "105.40677156107037\n",
      "101.66570418332553\n",
      "115.9333882362861\n",
      "167.16053953380205\n",
      "103.63594481251191\n",
      "104.56271181119477\n",
      "156.06653174143062\n",
      "176.92277914670163\n",
      "113.9702739705878\n",
      "101.84407871872533\n",
      "102.55201663950996\n",
      "102.40268617855857\n",
      "131.05549012558745\n",
      "100.42996789508975\n",
      "114.11382876252618\n",
      "134.44191319570245\n",
      "Done!\n"
     ]
    }
   ],
   "source": [
    "for event in tree:\n",
    "    for i in tree.jet_pt:\n",
    "        if (i/1000)*wpeso > 100:\n",
    "            hist.Fill((i/1000)*wpeso)\n",
    "            print((i/1000)*wpeso)\n",
    "    \n",
    "print(\"Done!\")"
   ]
  },
  {
   "cell_type": "code",
   "execution_count": 17,
   "metadata": {},
   "outputs": [
    {
     "name": "stdout",
     "output_type": "stream",
     "text": [
      "Done!\n"
     ]
    }
   ],
   "source": [
    "for event in tree2:\n",
    "    for i in tree2.jet_pt:\n",
    "        if (i/1000)*wpeso2 > 100:\n",
    "            hist2.Fill((i/1000)*wpeso2)\n",
    "    \n",
    "print(\"Done!\")"
   ]
  },
  {
   "cell_type": "markdown",
   "metadata": {},
   "source": [
    "After filling the histogram we want to see the results of the analysis. First we draw the histogram on the canvas and then the canvas on which the histogram lies."
   ]
  },
  {
   "cell_type": "code",
   "execution_count": 18,
   "metadata": {},
   "outputs": [],
   "source": [
    "hist.SetFillColor(12)\n",
    "hist.Draw()"
   ]
  },
  {
   "cell_type": "code",
   "execution_count": 19,
   "metadata": {},
   "outputs": [
    {
     "data": {
      "image/png": "[encoded data removed]",
      "text/plain": [
       "<IPython.core.display.Image object>"
      ]
     },
     "metadata": {},
     "output_type": "display_data"
    }
   ],
   "source": [
    "canvas.Draw()"
   ]
  },
  {
   "cell_type": "code",
   "execution_count": 20,
   "metadata": {},
   "outputs": [],
   "source": [
    "hist2.SetFillColor(12)\n",
    "hist2.Draw()"
   ]
  },
  {
   "cell_type": "code",
   "execution_count": 21,
   "metadata": {},
   "outputs": [
    {
     "data": {
      "image/png": "[encoded data removed]",
      "text/plain": [
       "<IPython.core.display.Image object>"
      ]
     },
     "metadata": {},
     "output_type": "display_data"
    }
   ],
   "source": [
    "canvas.Draw()"
   ]
  },
  {
   "cell_type": "code",
   "execution_count": 22,
   "metadata": {},
   "outputs": [],
   "source": [
    "hs1 = ROOT.THStack(\"hist\",\" stacked\")\n",
    "hs2 = ROOT.THStack(\"hist2\",\" unstacked\")\n"
   ]
  },
  {
   "cell_type": "code",
   "execution_count": 23,
   "metadata": {},
   "outputs": [],
   "source": [
    "# hist.SetMarkerStyle(20)\n",
    "hist.SetFillColor(2)\n",
    "hs1.Add(hist)\n",
    "hs2.Add(hist)\n",
    "\n",
    "\n",
    "hist2.SetFillColor(5)\n",
    "hs1.Add(hist2)\n",
    "hs2.Add(hist2)\n"
   ]
  },
  {
   "cell_type": "code",
   "execution_count": 25,
   "metadata": {},
   "outputs": [
    {
     "name": "stderr",
     "output_type": "stream",
     "text": [
      "Warning in <TCanvas::Constructor>: Deleting canvas with same name: c1\n"
     ]
    },
    {
     "data": {
      "image/png": "[encoded data removed]",
      "text/plain": [
       "<IPython.core.display.Image object>"
      ]
     },
     "metadata": {},
     "output_type": "display_data"
    }
   ],
   "source": [
    "c1 = ROOT.TCanvas(\"c1\",\"stacked hists\",700,900)\n",
    "c1.Divide(1, 2)\n",
    "c1.cd(1)\n",
    "hs1.Draw(\"BP*\")\n",
    "\n",
    "c1.cd(2)\n",
    "hs2.Draw(\"\")\n",
    "c1.Draw()\n"
   ]
  },
  {
   "cell_type": "markdown",
   "metadata": {},
   "source": [
    "The next cell will rescale the histogram to one (1).\n",
    "This will allow to see proportions in the histogram itself.\n",
    "**This is called normalisation**"
   ]
  },
  {
   "cell_type": "code",
   "execution_count": 26,
   "metadata": {},
   "outputs": [],
   "source": [
    "scale = hist.Integral()\n",
    "hist.Scale(1/scale)\n",
    "hist.SetFillColor(2)\n"
   ]
  },
  {
   "cell_type": "code",
   "execution_count": 27,
   "metadata": {},
   "outputs": [
    {
     "data": {
      "image/png": "[encoded data removed]",
      "text/plain": [
       "<IPython.core.display.Image object>"
      ]
     },
     "metadata": {},
     "output_type": "display_data"
    }
   ],
   "source": [
    "hist.Draw()\n",
    "canvas.Draw(\"hist\")"
   ]
  },
  {
   "cell_type": "markdown",
   "metadata": {},
   "source": [
    "**Done!**"
   ]
  }
 ],
 "metadata": {
  "kernelspec": {
   "display_name": "Python 3",
   "language": "python",
   "name": "python3"
  },
  "language_info": {
   "codemirror_mode": {
    "name": "ipython",
    "version": 3
   },
   "file_extension": ".py",
   "mimetype": "text/x-python",
   "name": "python",
   "nbconvert_exporter": "python",
   "pygments_lexer": "ipython3",
   "version": "3.7.10"
  }
 },
 "nbformat": 4,
 "nbformat_minor": 2
}
